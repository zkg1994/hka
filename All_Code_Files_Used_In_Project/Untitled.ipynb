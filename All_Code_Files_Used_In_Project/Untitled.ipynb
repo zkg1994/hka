{
 "cells": [
  {
   "cell_type": "code",
   "execution_count": 4,
   "metadata": {},
   "outputs": [
    {
     "ename": "SyntaxError",
     "evalue": "invalid syntax (<ipython-input-4-56336189ec99>, line 1)",
     "output_type": "error",
     "traceback": [
      "\u001b[1;36m  File \u001b[1;32m\"<ipython-input-4-56336189ec99>\"\u001b[1;36m, line \u001b[1;32m1\u001b[0m\n\u001b[1;33m    cd ..\u001b[0m\n\u001b[1;37m        ^\u001b[0m\n\u001b[1;31mSyntaxError\u001b[0m\u001b[1;31m:\u001b[0m invalid syntax\n"
     ]
    }
   ],
   "source": [
    "cd .."
   ]
  },
  {
   "cell_type": "code",
   "execution_count": 5,
   "metadata": {},
   "outputs": [
    {
     "name": "stdout",
     "output_type": "stream",
     "text": [
      " Volume in drive C is Local Disk\n",
      " Volume Serial Number is D470-C5ED\n",
      "\n",
      " Directory of C:\\Users\\Kaige Zhang\\Desktop\n",
      "\n",
      "09/02/2019  03:43 AM    <DIR>          .\n",
      "09/02/2019  03:43 AM    <DIR>          ..\n",
      "08/27/2019  03:57 PM    <DIR>          Application\n",
      "08/31/2019  02:44 AM           215,876 Data Mining Project(1).pdf\n",
      "09/02/2019  03:15 PM    <DIR>          Files\n",
      "09/01/2019  10:26 PM            11,990 new clustering.py\n",
      "08/19/2019  11:48 AM       385,940,540 t1.csv\n",
      "08/19/2019  11:49 AM       612,490,607 t2.csv\n",
      "09/02/2019  03:43 AM            12,415 Weekday_Data.py\n",
      "               5 File(s)    998,671,428 bytes\n",
      "               4 Dir(s)  50,361,851,904 bytes free\n"
     ]
    }
   ],
   "source": [
    "ls"
   ]
  },
  {
   "cell_type": "code",
   "execution_count": null,
   "metadata": {},
   "outputs": [],
   "source": [
    "%run Weekday_Data.py"
   ]
  }
 ],
 "metadata": {
  "kernelspec": {
   "display_name": "Python 3",
   "language": "python",
   "name": "python3"
  },
  "language_info": {
   "codemirror_mode": {
    "name": "ipython",
    "version": 3
   },
   "file_extension": ".py",
   "mimetype": "text/x-python",
   "name": "python",
   "nbconvert_exporter": "python",
   "pygments_lexer": "ipython3",
   "version": "3.7.3"
  }
 },
 "nbformat": 4,
 "nbformat_minor": 2
}
