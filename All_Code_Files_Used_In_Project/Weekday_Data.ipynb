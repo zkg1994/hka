{
 "cells": [
  {
   "cell_type": "code",
   "execution_count": 1,
   "metadata": {},
   "outputs": [],
   "source": [
    "%matplotlib inline\n",
    "import matplotlib as mpl\n",
    "import matplotlib.pyplot as plt\n",
    "import numpy as np\n",
    "import pandas as pd"
   ]
  },
  {
   "cell_type": "markdown",
   "metadata": {},
   "source": [
    "# reading files"
   ]
  },
  {
   "cell_type": "code",
   "execution_count": 2,
   "metadata": {},
   "outputs": [],
   "source": [
    "data = pd.read_csv(\"C:/Users/Kaige Zhang/Desktop/t1.csv\")"
   ]
  },
  {
   "cell_type": "code",
   "execution_count": 3,
   "metadata": {},
   "outputs": [
    {
     "data": {
      "text/html": [
       "<div>\n",
       "<style scoped>\n",
       "    .dataframe tbody tr th:only-of-type {\n",
       "        vertical-align: middle;\n",
       "    }\n",
       "\n",
       "    .dataframe tbody tr th {\n",
       "        vertical-align: top;\n",
       "    }\n",
       "\n",
       "    .dataframe thead th {\n",
       "        text-align: right;\n",
       "    }\n",
       "</style>\n",
       "<table border=\"1\" class=\"dataframe\">\n",
       "  <thead>\n",
       "    <tr style=\"text-align: right;\">\n",
       "      <th></th>\n",
       "      <th>Date</th>\n",
       "      <th>Hour</th>\n",
       "      <th>Minute</th>\n",
       "      <th>Sec</th>\n",
       "      <th>GridVoltage</th>\n",
       "      <th>GenerationCurrent</th>\n",
       "      <th>Impedance</th>\n",
       "      <th>GridCurrent</th>\n",
       "      <th>PowerFactor</th>\n",
       "      <th>GridImportEnergy</th>\n",
       "      <th>GridExportEnergy</th>\n",
       "      <th>GenerationImportEnergy</th>\n",
       "      <th>GenerationExportEnergy</th>\n",
       "      <th>Id</th>\n",
       "    </tr>\n",
       "  </thead>\n",
       "  <tbody>\n",
       "    <tr>\n",
       "      <th>0</th>\n",
       "      <td>2019-01-08</td>\n",
       "      <td>23</td>\n",
       "      <td>36</td>\n",
       "      <td>2</td>\n",
       "      <td>240</td>\n",
       "      <td>1.3</td>\n",
       "      <td>0.0</td>\n",
       "      <td>1.3</td>\n",
       "      <td>0.98</td>\n",
       "      <td>0.1</td>\n",
       "      <td>0.0</td>\n",
       "      <td>0.1</td>\n",
       "      <td>0.0</td>\n",
       "      <td>96</td>\n",
       "    </tr>\n",
       "    <tr>\n",
       "      <th>1</th>\n",
       "      <td>2019-01-08</td>\n",
       "      <td>23</td>\n",
       "      <td>44</td>\n",
       "      <td>49</td>\n",
       "      <td>238</td>\n",
       "      <td>1.2</td>\n",
       "      <td>0.0</td>\n",
       "      <td>1.2</td>\n",
       "      <td>0.98</td>\n",
       "      <td>0.1</td>\n",
       "      <td>0.0</td>\n",
       "      <td>0.1</td>\n",
       "      <td>0.0</td>\n",
       "      <td>96</td>\n",
       "    </tr>\n",
       "    <tr>\n",
       "      <th>2</th>\n",
       "      <td>2019-01-08</td>\n",
       "      <td>23</td>\n",
       "      <td>45</td>\n",
       "      <td>49</td>\n",
       "      <td>238</td>\n",
       "      <td>1.2</td>\n",
       "      <td>0.0</td>\n",
       "      <td>1.2</td>\n",
       "      <td>0.98</td>\n",
       "      <td>0.1</td>\n",
       "      <td>0.0</td>\n",
       "      <td>0.1</td>\n",
       "      <td>0.0</td>\n",
       "      <td>96</td>\n",
       "    </tr>\n",
       "    <tr>\n",
       "      <th>3</th>\n",
       "      <td>2019-01-08</td>\n",
       "      <td>23</td>\n",
       "      <td>46</td>\n",
       "      <td>49</td>\n",
       "      <td>239</td>\n",
       "      <td>1.2</td>\n",
       "      <td>0.0</td>\n",
       "      <td>1.2</td>\n",
       "      <td>0.98</td>\n",
       "      <td>0.1</td>\n",
       "      <td>0.0</td>\n",
       "      <td>0.1</td>\n",
       "      <td>0.0</td>\n",
       "      <td>96</td>\n",
       "    </tr>\n",
       "    <tr>\n",
       "      <th>4</th>\n",
       "      <td>2019-01-08</td>\n",
       "      <td>23</td>\n",
       "      <td>47</td>\n",
       "      <td>49</td>\n",
       "      <td>238</td>\n",
       "      <td>1.2</td>\n",
       "      <td>0.0</td>\n",
       "      <td>1.2</td>\n",
       "      <td>0.98</td>\n",
       "      <td>0.1</td>\n",
       "      <td>0.0</td>\n",
       "      <td>0.1</td>\n",
       "      <td>0.0</td>\n",
       "      <td>96</td>\n",
       "    </tr>\n",
       "  </tbody>\n",
       "</table>\n",
       "</div>"
      ],
      "text/plain": [
       "         Date  Hour  Minute  Sec  GridVoltage  GenerationCurrent  Impedance  \\\n",
       "0  2019-01-08    23      36    2          240                1.3        0.0   \n",
       "1  2019-01-08    23      44   49          238                1.2        0.0   \n",
       "2  2019-01-08    23      45   49          238                1.2        0.0   \n",
       "3  2019-01-08    23      46   49          239                1.2        0.0   \n",
       "4  2019-01-08    23      47   49          238                1.2        0.0   \n",
       "\n",
       "   GridCurrent  PowerFactor  GridImportEnergy  GridExportEnergy  \\\n",
       "0          1.3         0.98               0.1               0.0   \n",
       "1          1.2         0.98               0.1               0.0   \n",
       "2          1.2         0.98               0.1               0.0   \n",
       "3          1.2         0.98               0.1               0.0   \n",
       "4          1.2         0.98               0.1               0.0   \n",
       "\n",
       "   GenerationImportEnergy  GenerationExportEnergy  Id  \n",
       "0                     0.1                     0.0  96  \n",
       "1                     0.1                     0.0  96  \n",
       "2                     0.1                     0.0  96  \n",
       "3                     0.1                     0.0  96  \n",
       "4                     0.1                     0.0  96  "
      ]
     },
     "execution_count": 3,
     "metadata": {},
     "output_type": "execute_result"
    }
   ],
   "source": [
    "data.head(5)"
   ]
  },
  {
   "cell_type": "code",
   "execution_count": 4,
   "metadata": {},
   "outputs": [
    {
     "data": {
      "text/plain": [
       "(6708168, 14)"
      ]
     },
     "execution_count": 4,
     "metadata": {},
     "output_type": "execute_result"
    }
   ],
   "source": [
    "data.shape"
   ]
  },
  {
   "cell_type": "markdown",
   "metadata": {},
   "source": [
    "# group  by date"
   ]
  },
  {
   "cell_type": "code",
   "execution_count": 5,
   "metadata": {},
   "outputs": [],
   "source": [
    "data = data.drop(['GenerationCurrent'], axis = 1)\n",
    "data = data.drop(['GenerationImportEnergy'], axis = 1)\n",
    "data = data.drop(['GenerationExportEnergy'], axis = 1)\n",
    "data = data.drop(['Impedance'], axis = 1)\n",
    "data = data.drop(['PowerFactor'], axis = 1)\n",
    "data = data.drop(['GridExportEnergy'], axis = 1)\n",
    "data = data.drop(['GridImportEnergy'], axis = 1)"
   ]
  },
  {
   "cell_type": "code",
   "execution_count": 6,
   "metadata": {},
   "outputs": [
    {
     "data": {
      "text/html": [
       "<div>\n",
       "<style scoped>\n",
       "    .dataframe tbody tr th:only-of-type {\n",
       "        vertical-align: middle;\n",
       "    }\n",
       "\n",
       "    .dataframe tbody tr th {\n",
       "        vertical-align: top;\n",
       "    }\n",
       "\n",
       "    .dataframe thead th {\n",
       "        text-align: right;\n",
       "    }\n",
       "</style>\n",
       "<table border=\"1\" class=\"dataframe\">\n",
       "  <thead>\n",
       "    <tr style=\"text-align: right;\">\n",
       "      <th></th>\n",
       "      <th>Date</th>\n",
       "      <th>Hour</th>\n",
       "      <th>Minute</th>\n",
       "      <th>Sec</th>\n",
       "      <th>GridVoltage</th>\n",
       "      <th>GridCurrent</th>\n",
       "      <th>Id</th>\n",
       "    </tr>\n",
       "  </thead>\n",
       "  <tbody>\n",
       "    <tr>\n",
       "      <th>0</th>\n",
       "      <td>2019-01-08</td>\n",
       "      <td>23</td>\n",
       "      <td>36</td>\n",
       "      <td>2</td>\n",
       "      <td>240</td>\n",
       "      <td>1.3</td>\n",
       "      <td>96</td>\n",
       "    </tr>\n",
       "    <tr>\n",
       "      <th>1</th>\n",
       "      <td>2019-01-08</td>\n",
       "      <td>23</td>\n",
       "      <td>44</td>\n",
       "      <td>49</td>\n",
       "      <td>238</td>\n",
       "      <td>1.2</td>\n",
       "      <td>96</td>\n",
       "    </tr>\n",
       "    <tr>\n",
       "      <th>2</th>\n",
       "      <td>2019-01-08</td>\n",
       "      <td>23</td>\n",
       "      <td>45</td>\n",
       "      <td>49</td>\n",
       "      <td>238</td>\n",
       "      <td>1.2</td>\n",
       "      <td>96</td>\n",
       "    </tr>\n",
       "    <tr>\n",
       "      <th>3</th>\n",
       "      <td>2019-01-08</td>\n",
       "      <td>23</td>\n",
       "      <td>46</td>\n",
       "      <td>49</td>\n",
       "      <td>239</td>\n",
       "      <td>1.2</td>\n",
       "      <td>96</td>\n",
       "    </tr>\n",
       "    <tr>\n",
       "      <th>4</th>\n",
       "      <td>2019-01-08</td>\n",
       "      <td>23</td>\n",
       "      <td>47</td>\n",
       "      <td>49</td>\n",
       "      <td>238</td>\n",
       "      <td>1.2</td>\n",
       "      <td>96</td>\n",
       "    </tr>\n",
       "  </tbody>\n",
       "</table>\n",
       "</div>"
      ],
      "text/plain": [
       "         Date  Hour  Minute  Sec  GridVoltage  GridCurrent  Id\n",
       "0  2019-01-08    23      36    2          240          1.3  96\n",
       "1  2019-01-08    23      44   49          238          1.2  96\n",
       "2  2019-01-08    23      45   49          238          1.2  96\n",
       "3  2019-01-08    23      46   49          239          1.2  96\n",
       "4  2019-01-08    23      47   49          238          1.2  96"
      ]
     },
     "execution_count": 6,
     "metadata": {},
     "output_type": "execute_result"
    }
   ],
   "source": [
    "data.head(5)"
   ]
  },
  {
   "cell_type": "code",
   "execution_count": 7,
   "metadata": {
    "scrolled": true
   },
   "outputs": [
    {
     "data": {
      "text/html": [
       "<div>\n",
       "<style scoped>\n",
       "    .dataframe tbody tr th:only-of-type {\n",
       "        vertical-align: middle;\n",
       "    }\n",
       "\n",
       "    .dataframe tbody tr th {\n",
       "        vertical-align: top;\n",
       "    }\n",
       "\n",
       "    .dataframe thead th {\n",
       "        text-align: right;\n",
       "    }\n",
       "</style>\n",
       "<table border=\"1\" class=\"dataframe\">\n",
       "  <thead>\n",
       "    <tr style=\"text-align: right;\">\n",
       "      <th></th>\n",
       "      <th>Id</th>\n",
       "      <th>Date</th>\n",
       "      <th>Hour</th>\n",
       "      <th>Minute</th>\n",
       "      <th>Sec</th>\n",
       "      <th>GridVoltage</th>\n",
       "      <th>GridCurrent</th>\n",
       "    </tr>\n",
       "  </thead>\n",
       "  <tbody>\n",
       "    <tr>\n",
       "      <th>0</th>\n",
       "      <td>4</td>\n",
       "      <td>2019-02-25</td>\n",
       "      <td>0</td>\n",
       "      <td>29.533333</td>\n",
       "      <td>36.566667</td>\n",
       "      <td>244.133333</td>\n",
       "      <td>5.036667</td>\n",
       "    </tr>\n",
       "    <tr>\n",
       "      <th>1</th>\n",
       "      <td>4</td>\n",
       "      <td>2019-02-25</td>\n",
       "      <td>1</td>\n",
       "      <td>29.500000</td>\n",
       "      <td>37.933333</td>\n",
       "      <td>244.600000</td>\n",
       "      <td>4.538333</td>\n",
       "    </tr>\n",
       "    <tr>\n",
       "      <th>2</th>\n",
       "      <td>4</td>\n",
       "      <td>2019-02-25</td>\n",
       "      <td>2</td>\n",
       "      <td>29.559322</td>\n",
       "      <td>37.322034</td>\n",
       "      <td>244.101695</td>\n",
       "      <td>5.837288</td>\n",
       "    </tr>\n",
       "    <tr>\n",
       "      <th>3</th>\n",
       "      <td>4</td>\n",
       "      <td>2019-02-25</td>\n",
       "      <td>3</td>\n",
       "      <td>29.550000</td>\n",
       "      <td>37.333333</td>\n",
       "      <td>244.083333</td>\n",
       "      <td>5.195000</td>\n",
       "    </tr>\n",
       "    <tr>\n",
       "      <th>4</th>\n",
       "      <td>4</td>\n",
       "      <td>2019-02-25</td>\n",
       "      <td>4</td>\n",
       "      <td>29.500000</td>\n",
       "      <td>37.533333</td>\n",
       "      <td>243.116667</td>\n",
       "      <td>5.025000</td>\n",
       "    </tr>\n",
       "  </tbody>\n",
       "</table>\n",
       "</div>"
      ],
      "text/plain": [
       "   Id        Date  Hour     Minute        Sec  GridVoltage  GridCurrent\n",
       "0   4  2019-02-25     0  29.533333  36.566667   244.133333     5.036667\n",
       "1   4  2019-02-25     1  29.500000  37.933333   244.600000     4.538333\n",
       "2   4  2019-02-25     2  29.559322  37.322034   244.101695     5.837288\n",
       "3   4  2019-02-25     3  29.550000  37.333333   244.083333     5.195000\n",
       "4   4  2019-02-25     4  29.500000  37.533333   243.116667     5.025000"
      ]
     },
     "execution_count": 7,
     "metadata": {},
     "output_type": "execute_result"
    }
   ],
   "source": [
    "weekday_data =  data[data['Date'] == '2019-02-25']\n",
    "weekday_data = weekday_data.groupby(['Id','Date','Hour']).mean()\n",
    "weekday_data = weekday_data.reset_index()\n",
    "weekday_data.head(5)"
   ]
  },
  {
   "cell_type": "code",
   "execution_count": 8,
   "metadata": {},
   "outputs": [
    {
     "data": {
      "text/html": [
       "<div>\n",
       "<style scoped>\n",
       "    .dataframe tbody tr th:only-of-type {\n",
       "        vertical-align: middle;\n",
       "    }\n",
       "\n",
       "    .dataframe tbody tr th {\n",
       "        vertical-align: top;\n",
       "    }\n",
       "\n",
       "    .dataframe thead th {\n",
       "        text-align: right;\n",
       "    }\n",
       "</style>\n",
       "<table border=\"1\" class=\"dataframe\">\n",
       "  <thead>\n",
       "    <tr style=\"text-align: right;\">\n",
       "      <th></th>\n",
       "      <th>Id</th>\n",
       "      <th>Date</th>\n",
       "      <th>Hour</th>\n",
       "      <th>GridVoltage</th>\n",
       "      <th>GridCurrent</th>\n",
       "    </tr>\n",
       "  </thead>\n",
       "  <tbody>\n",
       "    <tr>\n",
       "      <th>0</th>\n",
       "      <td>4</td>\n",
       "      <td>2019-02-25</td>\n",
       "      <td>0</td>\n",
       "      <td>244.133333</td>\n",
       "      <td>5.036667</td>\n",
       "    </tr>\n",
       "    <tr>\n",
       "      <th>1</th>\n",
       "      <td>4</td>\n",
       "      <td>2019-02-25</td>\n",
       "      <td>1</td>\n",
       "      <td>244.600000</td>\n",
       "      <td>4.538333</td>\n",
       "    </tr>\n",
       "    <tr>\n",
       "      <th>2</th>\n",
       "      <td>4</td>\n",
       "      <td>2019-02-25</td>\n",
       "      <td>2</td>\n",
       "      <td>244.101695</td>\n",
       "      <td>5.837288</td>\n",
       "    </tr>\n",
       "    <tr>\n",
       "      <th>3</th>\n",
       "      <td>4</td>\n",
       "      <td>2019-02-25</td>\n",
       "      <td>3</td>\n",
       "      <td>244.083333</td>\n",
       "      <td>5.195000</td>\n",
       "    </tr>\n",
       "    <tr>\n",
       "      <th>4</th>\n",
       "      <td>4</td>\n",
       "      <td>2019-02-25</td>\n",
       "      <td>4</td>\n",
       "      <td>243.116667</td>\n",
       "      <td>5.025000</td>\n",
       "    </tr>\n",
       "  </tbody>\n",
       "</table>\n",
       "</div>"
      ],
      "text/plain": [
       "   Id        Date  Hour  GridVoltage  GridCurrent\n",
       "0   4  2019-02-25     0   244.133333     5.036667\n",
       "1   4  2019-02-25     1   244.600000     4.538333\n",
       "2   4  2019-02-25     2   244.101695     5.837288\n",
       "3   4  2019-02-25     3   244.083333     5.195000\n",
       "4   4  2019-02-25     4   243.116667     5.025000"
      ]
     },
     "execution_count": 8,
     "metadata": {},
     "output_type": "execute_result"
    }
   ],
   "source": [
    "weekday_data = weekday_data.drop(['Minute'], axis = 1)\n",
    "weekday_data = weekday_data.drop(['Sec'], axis = 1)\n",
    "weekday_data.head(5)"
   ]
  },
  {
   "cell_type": "code",
   "execution_count": 9,
   "metadata": {},
   "outputs": [
    {
     "data": {
      "text/html": [
       "<div>\n",
       "<style scoped>\n",
       "    .dataframe tbody tr th:only-of-type {\n",
       "        vertical-align: middle;\n",
       "    }\n",
       "\n",
       "    .dataframe tbody tr th {\n",
       "        vertical-align: top;\n",
       "    }\n",
       "\n",
       "    .dataframe thead th {\n",
       "        text-align: right;\n",
       "    }\n",
       "</style>\n",
       "<table border=\"1\" class=\"dataframe\">\n",
       "  <thead>\n",
       "    <tr style=\"text-align: right;\">\n",
       "      <th></th>\n",
       "      <th>Id</th>\n",
       "      <th>Date</th>\n",
       "      <th>Hour</th>\n",
       "      <th>GridVoltage</th>\n",
       "      <th>GridCurrent</th>\n",
       "      <th>PowerConsumption</th>\n",
       "    </tr>\n",
       "  </thead>\n",
       "  <tbody>\n",
       "    <tr>\n",
       "      <th>0</th>\n",
       "      <td>4</td>\n",
       "      <td>2019-02-25</td>\n",
       "      <td>0</td>\n",
       "      <td>244.133333</td>\n",
       "      <td>5.036667</td>\n",
       "      <td>1229.618222</td>\n",
       "    </tr>\n",
       "    <tr>\n",
       "      <th>1</th>\n",
       "      <td>4</td>\n",
       "      <td>2019-02-25</td>\n",
       "      <td>1</td>\n",
       "      <td>244.600000</td>\n",
       "      <td>4.538333</td>\n",
       "      <td>1110.076333</td>\n",
       "    </tr>\n",
       "    <tr>\n",
       "      <th>2</th>\n",
       "      <td>4</td>\n",
       "      <td>2019-02-25</td>\n",
       "      <td>2</td>\n",
       "      <td>244.101695</td>\n",
       "      <td>5.837288</td>\n",
       "      <td>1424.891928</td>\n",
       "    </tr>\n",
       "    <tr>\n",
       "      <th>3</th>\n",
       "      <td>4</td>\n",
       "      <td>2019-02-25</td>\n",
       "      <td>3</td>\n",
       "      <td>244.083333</td>\n",
       "      <td>5.195000</td>\n",
       "      <td>1268.012917</td>\n",
       "    </tr>\n",
       "    <tr>\n",
       "      <th>4</th>\n",
       "      <td>4</td>\n",
       "      <td>2019-02-25</td>\n",
       "      <td>4</td>\n",
       "      <td>243.116667</td>\n",
       "      <td>5.025000</td>\n",
       "      <td>1221.661250</td>\n",
       "    </tr>\n",
       "  </tbody>\n",
       "</table>\n",
       "</div>"
      ],
      "text/plain": [
       "   Id        Date  Hour  GridVoltage  GridCurrent  PowerConsumption\n",
       "0   4  2019-02-25     0   244.133333     5.036667       1229.618222\n",
       "1   4  2019-02-25     1   244.600000     4.538333       1110.076333\n",
       "2   4  2019-02-25     2   244.101695     5.837288       1424.891928\n",
       "3   4  2019-02-25     3   244.083333     5.195000       1268.012917\n",
       "4   4  2019-02-25     4   243.116667     5.025000       1221.661250"
      ]
     },
     "execution_count": 9,
     "metadata": {},
     "output_type": "execute_result"
    }
   ],
   "source": [
    "weekday_data['PowerConsumption'] = weekday_data['GridVoltage'] * weekday_data['GridCurrent']\n",
    "weekday_data.head(5)"
   ]
  },
  {
   "cell_type": "code",
   "execution_count": 10,
   "metadata": {},
   "outputs": [
    {
     "data": {
      "text/html": [
       "<div>\n",
       "<style scoped>\n",
       "    .dataframe tbody tr th:only-of-type {\n",
       "        vertical-align: middle;\n",
       "    }\n",
       "\n",
       "    .dataframe tbody tr th {\n",
       "        vertical-align: top;\n",
       "    }\n",
       "\n",
       "    .dataframe thead th {\n",
       "        text-align: right;\n",
       "    }\n",
       "</style>\n",
       "<table border=\"1\" class=\"dataframe\">\n",
       "  <thead>\n",
       "    <tr style=\"text-align: right;\">\n",
       "      <th></th>\n",
       "      <th>Id</th>\n",
       "      <th>Date</th>\n",
       "      <th>Hour</th>\n",
       "      <th>PowerConsumption</th>\n",
       "    </tr>\n",
       "  </thead>\n",
       "  <tbody>\n",
       "    <tr>\n",
       "      <th>0</th>\n",
       "      <td>4</td>\n",
       "      <td>2019-02-25</td>\n",
       "      <td>0</td>\n",
       "      <td>1229.618222</td>\n",
       "    </tr>\n",
       "    <tr>\n",
       "      <th>1</th>\n",
       "      <td>4</td>\n",
       "      <td>2019-02-25</td>\n",
       "      <td>1</td>\n",
       "      <td>1110.076333</td>\n",
       "    </tr>\n",
       "    <tr>\n",
       "      <th>2</th>\n",
       "      <td>4</td>\n",
       "      <td>2019-02-25</td>\n",
       "      <td>2</td>\n",
       "      <td>1424.891928</td>\n",
       "    </tr>\n",
       "    <tr>\n",
       "      <th>3</th>\n",
       "      <td>4</td>\n",
       "      <td>2019-02-25</td>\n",
       "      <td>3</td>\n",
       "      <td>1268.012917</td>\n",
       "    </tr>\n",
       "    <tr>\n",
       "      <th>4</th>\n",
       "      <td>4</td>\n",
       "      <td>2019-02-25</td>\n",
       "      <td>4</td>\n",
       "      <td>1221.661250</td>\n",
       "    </tr>\n",
       "  </tbody>\n",
       "</table>\n",
       "</div>"
      ],
      "text/plain": [
       "   Id        Date  Hour  PowerConsumption\n",
       "0   4  2019-02-25     0       1229.618222\n",
       "1   4  2019-02-25     1       1110.076333\n",
       "2   4  2019-02-25     2       1424.891928\n",
       "3   4  2019-02-25     3       1268.012917\n",
       "4   4  2019-02-25     4       1221.661250"
      ]
     },
     "execution_count": 10,
     "metadata": {},
     "output_type": "execute_result"
    }
   ],
   "source": [
    "weekday_data = weekday_data.drop(['GridVoltage'], axis = 1)\n",
    "weekday_data = weekday_data.drop(['GridCurrent'], axis = 1)\n",
    "weekday_data.head(5)"
   ]
  },
  {
   "cell_type": "code",
   "execution_count": null,
   "metadata": {},
   "outputs": [],
   "source": [
    "id_list = weekday_data['Id'].drop_duplicates().tolist()\n",
    "fig, ax = plt.subplots(1, 1, figsize = (30, 12))\n",
    "for i in range(len(id_list)):\n",
    "    rows = weekday_data[weekday_data['Id'] == id_list[i]]\n",
    "    rows.plot('Hour', 'PowerConsumption', kind = 'line',color = 'blue', ax = ax, legend = False, figsize = (30, 12), grid = True, fontsize = 30)\n",
    "\n",
    "plt.title('Weekday Power Consumption Curve Graph', fontsize = 30)\n",
    "plt.xlabel('Hour', fontsize = 30)\n",
    "plt.ylabel('PowerConsumption', fontsize = 30)\n",
    "x = range(0,24,1)\n",
    "plt.xticks(x)\n",
    "plt.show()"
   ]
  },
  {
   "cell_type": "code",
   "execution_count": null,
   "metadata": {},
   "outputs": [],
   "source": [
    "len(id_list)"
   ]
  },
  {
   "cell_type": "markdown",
   "metadata": {},
   "source": [
    "# new dataFrame"
   ]
  },
  {
   "cell_type": "code",
   "execution_count": null,
   "metadata": {},
   "outputs": [],
   "source": [
    "weekday_data_kmeans = []\n",
    "id_list = weekday_data['Id'].drop_duplicates().tolist()\n",
    "for i in range(len(id_list)):\n",
    "    rows = weekday_data[weekday_data['Id'] == id_list[i]]\n",
    "    power = rows['PowerConsumption'].tolist()\n",
    "    power.insert(0, id_list[i])\n",
    "    weekday_data_kmeans.append(power)\n",
    "len(weekday_data_kmeans)"
   ]
  },
  {
   "cell_type": "code",
   "execution_count": null,
   "metadata": {},
   "outputs": [],
   "source": [
    "num = 0\n",
    "while (num < len(weekday_data_kmeans)):\n",
    "    if len(weekday_data_kmeans[num]) != 25:\n",
    "        weekday_data_kmeans.pop(num)\n",
    "        num = num - 1\n",
    "    num = num + 1\n",
    "print (len(weekday_data_kmeans))"
   ]
  },
  {
   "cell_type": "code",
   "execution_count": null,
   "metadata": {},
   "outputs": [],
   "source": [
    "weekday_dataFrame = np.zeros(shape=(len(weekday_data_kmeans),len(weekday_data_kmeans[0])))"
   ]
  },
  {
   "cell_type": "code",
   "execution_count": null,
   "metadata": {},
   "outputs": [],
   "source": [
    "for i in range (len(weekday_data_kmeans)):\n",
    "    for x in range (len(weekday_data_kmeans[0])):\n",
    "        weekday_dataFrame[i][x] = weekday_data_kmeans[i][x]\n",
    "weekday_dataFrame = pd.DataFrame(weekday_dataFrame)\n",
    "type(weekday_dataFrame)"
   ]
  },
  {
   "cell_type": "code",
   "execution_count": null,
   "metadata": {
    "scrolled": true
   },
   "outputs": [],
   "source": [
    "weekday_dataFrame.head(5)"
   ]
  },
  {
   "cell_type": "markdown",
   "metadata": {},
   "source": [
    "# plot figure Weekday PowerConsumption "
   ]
  },
  {
   "cell_type": "markdown",
   "metadata": {},
   "source": [
    "# train Date, k-means"
   ]
  },
  {
   "cell_type": "code",
   "execution_count": null,
   "metadata": {},
   "outputs": [],
   "source": [
    "from sklearn.cluster import KMeans\n",
    "from sklearn.preprocessing import MinMaxScaler\n",
    "from sklearn import metrics"
   ]
  },
  {
   "cell_type": "code",
   "execution_count": null,
   "metadata": {},
   "outputs": [],
   "source": [
    "clinski_harabaz_scores = []\n",
    "cluster_num = range(2, 10)\n",
    "\n",
    "for i in cluster_num:\n",
    "    kmeans = KMeans(n_clusters = i, n_jobs = 4)\n",
    "    predict = kmeans.fit_predict(weekday_dataFrame)\n",
    "    clinski_harabaz_scores.append(metrics.calinski_harabasz_score(weekday_dataFrame, predict))"
   ]
  },
  {
   "cell_type": "code",
   "execution_count": null,
   "metadata": {},
   "outputs": [],
   "source": [
    "clinski_harabaz_scores"
   ]
  },
  {
   "cell_type": "code",
   "execution_count": null,
   "metadata": {},
   "outputs": [],
   "source": [
    "kmeans = KMeans(n_clusters = 3, n_jobs = 4)\n",
    "predict = kmeans.fit_predict(weekday_dataFrame)"
   ]
  },
  {
   "cell_type": "code",
   "execution_count": null,
   "metadata": {},
   "outputs": [],
   "source": [
    "weekday_dataFrame['cluster_kmeans'] = predict"
   ]
  },
  {
   "cell_type": "code",
   "execution_count": null,
   "metadata": {
    "scrolled": true
   },
   "outputs": [],
   "source": [
    "weekday_dataFrame.head(36)"
   ]
  },
  {
   "cell_type": "code",
   "execution_count": null,
   "metadata": {},
   "outputs": [],
   "source": [
    "color_list = ['red','green','blue']\n",
    "median_list = ['firebrick', 'darkgreen', 'darkblue']\n",
    "cluster_num = 3\n",
    "\n",
    "# fig, ax = plt.subplots(1, 1, figsize = (30, 12))\n",
    "for i in range(cluster_num):\n",
    "    rows = weekday_dataFrame[weekday_dataFrame['cluster_kmeans'] == i]\n",
    "    rows.plot('Hour', 'PowerConsumption', kind = 'line', color= color_list[i],alpha = 0.8, legend = False, figsize = (30, 12), grid = True, xticks = range(0,24), fontsize = 30)\n",
    "    median = rows.groupby([ 'Hour'])['PowerConsumption'].mean()\n",
    "    median.plot(color = color_list[i], linewidth = 10, ls = ':')\n",
    "    plt.title('Hour, K-means, cluster(pattern ' + str(i) + \")\", fontsize = 30)\n",
    "    plt.xlabel('Hour', fontsize = 30)\n",
    "    plt.ylabel('PowerConsumption', fontsize = 30)\n",
    "    plt.show()"
   ]
  },
  {
   "cell_type": "markdown",
   "metadata": {},
   "source": [
    "### Cluster Numbers = 3"
   ]
  },
  {
   "cell_type": "code",
   "execution_count": null,
   "metadata": {},
   "outputs": [],
   "source": [
    "kmeans = KMeans(n_clusters = 3, n_jobs = 4)\n",
    "predict = kmeans.fit_predict(data_train)"
   ]
  },
  {
   "cell_type": "code",
   "execution_count": null,
   "metadata": {},
   "outputs": [],
   "source": [
    "plot_date['cluster_kmeans'] = predict"
   ]
  },
  {
   "cell_type": "code",
   "execution_count": null,
   "metadata": {},
   "outputs": [],
   "source": [
    "train_data[group_date['Id'] == 96]"
   ]
  },
  {
   "cell_type": "code",
   "execution_count": null,
   "metadata": {},
   "outputs": [],
   "source": [
    "# id_list = group_date['Id'].drop_duplicates().tolist()\n",
    "color_list = ['red','green','blue']\n",
    "median_list = ['black', 'black', 'black']\n",
    "fig, axes = plt.subplots(3, 1, figsize = (30, 60))\n",
    "# fig.tight_layout()\n",
    "# plt.subplots_adjust(wspace =0, hspace =0)\n",
    "\n",
    "for i in range(len(id_list)):\n",
    "    rows = plot_date[plot_date['Id'] == id_list[i]]\n",
    "    cluster_index = int(rows['cluster_kmeans'].mode())  \n",
    "    rows.plot('Date', 'VNC', kind = 'line',ax = axes[cluster_index], color= color_list[cluster_index], alpha = 0.8,legend = False, grid = True, fontsize = 30)\n",
    "    axes[cluster_index].set_title('Date, K-means, cluster(pattern ' + str(cluster_index) + \")\", fontsize = 30)\n",
    "    axes[cluster_index].set_ylabel('Electric Work', fontsize = 30)\n",
    "#     plt.show()\n",
    "    \n",
    "# plot median for 4 clusters\n",
    "cluster_num = 3\n",
    "for i in range(cluster_num):\n",
    "    rows = plot_date[plot_date['cluster_kmeans'] == i]\n",
    "    median = rows.groupby([ 'Date'])['VNC'].mean()\n",
    "    median.plot(color = median_list[i],ax = axes[i], linewidth = 10, ls = ':')\n"
   ]
  },
  {
   "cell_type": "markdown",
   "metadata": {},
   "source": [
    "# train Hour, k-means"
   ]
  },
  {
   "cell_type": "code",
   "execution_count": null,
   "metadata": {},
   "outputs": [],
   "source": [
    "clinski_harabaz_scores = []\n",
    "cluster_num = range(2, 10)\n",
    "\n",
    "for i in cluster_num:\n",
    "    kmeans = KMeans(n_clusters = i, n_jobs = 4)\n",
    "    predict = kmeans.fit_predict(plot_hour)\n",
    "    clinski_harabaz_scores.append(metrics.calinski_harabaz_score(plot_hour, predict))"
   ]
  },
  {
   "cell_type": "code",
   "execution_count": null,
   "metadata": {},
   "outputs": [],
   "source": [
    "clinski_harabaz_scores"
   ]
  },
  {
   "cell_type": "code",
   "execution_count": null,
   "metadata": {},
   "outputs": [],
   "source": [
    "fig = plt.figure()\n",
    "x = range(2,10)\n",
    "plt.plot(x, clinski_harabaz_scores)\n",
    "plt.xlabel('cluster numbers')\n",
    "plt.xticks(range(2, 10))\n",
    "plt.ylabel('clinski harabaz score')\n",
    "plt.title('Hour, K-means, clinski harabaz score ') # scores with different cluster numbers\n",
    "max_clin = max(clinski_harabaz_scores)\n",
    "max_clin_index = clinski_harabaz_scores.index(max(clinski_harabaz_scores)) + 2\n",
    "plt.plot([max_clin_index], [max_clin], 'o')\n",
    "plt.annotate('max score:[9, 1767.93]', xy = (max_clin_index, max_clin), xytext = (20,1600),\n",
    "            arrowprops = dict(facecolor = 'black', shrink = 0.05))\n",
    "plt.show"
   ]
  },
  {
   "cell_type": "markdown",
   "metadata": {},
   "source": [
    "### cluster numbers = 9 is best"
   ]
  },
  {
   "cell_type": "code",
   "execution_count": null,
   "metadata": {},
   "outputs": [],
   "source": [
    "kmeans = KMeans(n_clusters = 3, n_jobs = 4)\n",
    "predict = kmeans.fit_predict(plot_hour)"
   ]
  },
  {
   "cell_type": "code",
   "execution_count": null,
   "metadata": {},
   "outputs": [],
   "source": [
    "plot_hour['cluster_kmeans'] = predict"
   ]
  },
  {
   "cell_type": "code",
   "execution_count": null,
   "metadata": {},
   "outputs": [],
   "source": [
    "plot_hour.head()"
   ]
  },
  {
   "cell_type": "code",
   "execution_count": null,
   "metadata": {
    "scrolled": false
   },
   "outputs": [],
   "source": [
    "color_list = ['red','green','blue']\n",
    "median_list = ['firebrick', 'darkgreen', 'darkblue']\n",
    "cluster_num = 3\n",
    "\n",
    "# fig, ax = plt.subplots(1, 1, figsize = (30, 12))\n",
    "for i in range(cluster_num):\n",
    "    rows = plot_hour[plot_hour['cluster_kmeans'] == i]\n",
    "    rows.plot('Hour', 'VNC', kind = 'line', color= color_list[i],alpha = 0.8, legend = False, figsize = (30, 12), grid = True, xticks = range(0,24), fontsize = 30)\n",
    "    median = rows.groupby([ 'Hour'])['VNC'].mean()\n",
    "    median.plot(color = color_list[i], linewidth = 10, ls = ':')\n",
    "    plt.title('Hour, K-means, cluster(pattern ' + str(i) + \")\", fontsize = 30)\n",
    "    plt.xlabel('Hour', fontsize = 30)\n",
    "    plt.ylabel('VNC', fontsize = 30)\n",
    "    plt.show()\n",
    "    "
   ]
  },
  {
   "cell_type": "markdown",
   "metadata": {},
   "source": [
    "# train Date, mean shift"
   ]
  },
  {
   "cell_type": "code",
   "execution_count": null,
   "metadata": {},
   "outputs": [],
   "source": [
    "data_hour = plot_hour.values.copy()"
   ]
  },
  {
   "cell_type": "code",
   "execution_count": null,
   "metadata": {},
   "outputs": [],
   "source": [
    "from sklearn.cluster import MeanShift, estimate_bandwidth"
   ]
  },
  {
   "cell_type": "code",
   "execution_count": null,
   "metadata": {},
   "outputs": [],
   "source": [
    "bandwidth = estimate_bandwidth(data_hour, quantile = 0.2, n_samples = 500)\n",
    "\n",
    "meanShift = MeanShift(bandwidth=bandwidth, bin_seeding=True)\n",
    "predict = meanShift.fit_predict(data_train)"
   ]
  },
  {
   "cell_type": "code",
   "execution_count": null,
   "metadata": {},
   "outputs": [],
   "source": [
    "plot_date['cluster_meanShift'] = predict"
   ]
  },
  {
   "cell_type": "code",
   "execution_count": null,
   "metadata": {},
   "outputs": [],
   "source": [
    "plot_date['cluster_meanShift'].value_counts()"
   ]
  },
  {
   "cell_type": "markdown",
   "metadata": {},
   "source": [
    "###### 可以看出， 只分了6类， 0， 1， 2，3， 4， 5对应类， 后面对应该类个数"
   ]
  },
  {
   "cell_type": "code",
   "execution_count": null,
   "metadata": {},
   "outputs": [],
   "source": [
    "plot_date.head()"
   ]
  },
  {
   "cell_type": "code",
   "execution_count": null,
   "metadata": {},
   "outputs": [],
   "source": [
    "# id_list = group_date['Id'].drop_duplicates().tolist()\n",
    "color_list = ['red','green','blue','yellow','orange']\n",
    "median_list = ['black', 'black', 'black','black', 'black']\n",
    "fig, axes = plt.subplots(5, 1, figsize = (30, 60))\n",
    "# fig.tight_layout()\n",
    "# plt.subplots_adjust(wspace =0, hspace =0)\n",
    "\n",
    "for i in range(len(id_list)):\n",
    "    rows = plot_date[plot_date['Id'] == id_list[i]]\n",
    "    cluster_index = int(rows['cluster_meanShift'].mode())  \n",
    "    rows.plot('Date', 'VNC', kind = 'line',ax = axes[cluster_index], color= color_list[cluster_index], alpha = 0.8,legend = False, grid = True, fontsize = 30)\n",
    "    axes[cluster_index].set_title('Date, mean shift, cluster(pattern ' + str(cluster_index) + \")\", fontsize = 30)\n",
    "#     axes[cluster_index].set_xlabel('date', fontsize = 30)\n",
    "    axes[cluster_index].set_ylabel('VNC', fontsize = 30)\n",
    "#     plt.show()\n",
    "    \n",
    "# plot median for 3 clusters\n",
    "cluster_num = 5\n",
    "for i in range(cluster_num):\n",
    "    rows = plot_date[plot_date['cluster_meanShift'] == i]\n",
    "    median = rows.groupby([ 'Date'])['VNC'].mean()\n",
    "    median.plot(color = median_list[i],ax = axes[i], linewidth = 10, ls = ':')\n"
   ]
  },
  {
   "cell_type": "markdown",
   "metadata": {},
   "source": [
    "# train Hour, mean shift"
   ]
  },
  {
   "cell_type": "code",
   "execution_count": null,
   "metadata": {},
   "outputs": [],
   "source": [
    "bandwidth = estimate_bandwidth(plot_hour, quantile = 0.2, n_samples = 500)\n",
    "\n",
    "meanShift = MeanShift(bandwidth=bandwidth, bin_seeding=True)\n",
    "predict = meanShift.fit_predict(plot_hour)"
   ]
  },
  {
   "cell_type": "code",
   "execution_count": null,
   "metadata": {},
   "outputs": [],
   "source": [
    "plot_hour['cluster_meanShift'] = predict"
   ]
  },
  {
   "cell_type": "code",
   "execution_count": null,
   "metadata": {},
   "outputs": [],
   "source": [
    "plot_hour.head()"
   ]
  },
  {
   "cell_type": "code",
   "execution_count": null,
   "metadata": {},
   "outputs": [],
   "source": [
    "plot_hour['cluster_meanShift'].value_counts()"
   ]
  },
  {
   "cell_type": "code",
   "execution_count": null,
   "metadata": {},
   "outputs": [],
   "source": [
    "color_list = ['red','green','blue','yellow','orange']\n",
    "median_list = ['black', 'black', 'black','black', 'black']\n",
    "cluster_num = 5\n",
    "\n",
    "# fig, ax = plt.subplots(1, 1, figsize = (30, 12))\n",
    "for i in range(cluster_num):\n",
    "    rows = plot_hour[plot_hour['cluster_meanShift'] == i]\n",
    "    rows.plot('Hour', 'VNC', kind = 'line', color= color_list[i],alpha = 0.8, legend = False, figsize = (30, 12), grid = True, xticks = range(0,24), fontsize = 30)\n",
    "    median = rows.groupby([ 'Hour'])['VNC'].mean()\n",
    "    median.plot(color = color_list[i], linewidth = 10, ls = ':')\n",
    "    plt.title('Hour, mean shift, cluster(pattern ' + str(i) + \")\", fontsize = 30)\n",
    "    plt.xlabel('Hour', fontsize = 30)\n",
    "    plt.ylabel('VNC', fontsize = 30)\n",
    "    plt.show()\n",
    "    "
   ]
  },
  {
   "cell_type": "markdown",
   "metadata": {},
   "source": [
    "# train Date, DBSCAN"
   ]
  },
  {
   "cell_type": "code",
   "execution_count": null,
   "metadata": {},
   "outputs": [],
   "source": [
    "from sklearn.cluster import DBSCAN"
   ]
  },
  {
   "cell_type": "code",
   "execution_count": null,
   "metadata": {},
   "outputs": [],
   "source": [
    "predict = DBSCAN(eps = 0.01, min_samples = 100).fit_predict(data_train)"
   ]
  },
  {
   "cell_type": "code",
   "execution_count": null,
   "metadata": {},
   "outputs": [],
   "source": [
    "group_date['cluster_DBSCAN'] = predict"
   ]
  },
  {
   "cell_type": "code",
   "execution_count": null,
   "metadata": {},
   "outputs": [],
   "source": [
    "group_date['cluster_DBSCAN'].value_counts()"
   ]
  },
  {
   "cell_type": "markdown",
   "metadata": {},
   "source": [
    "### 可以看出， 只分了一类， 760个data都是-1"
   ]
  },
  {
   "cell_type": "code",
   "execution_count": null,
   "metadata": {},
   "outputs": [],
   "source": [
    "group_date.head()"
   ]
  },
  {
   "cell_type": "code",
   "execution_count": null,
   "metadata": {},
   "outputs": [],
   "source": [
    "# id_list = group_date['Id'].drop_duplicates().tolist()\n",
    "# color_list = ['red','green','blue']\n",
    "# median_list = ['firebrick', 'darkgreen', 'darkblue']\n",
    "fig, axes = plt.subplots(1, 1, figsize = (30, 12))\n",
    "# fig.tight_layout()\n",
    "# plt.subplots_adjust(wspace =0, hspace =0)\n",
    "\n",
    "for i in range(len(id_list)):\n",
    "    rows = group_date[group_date['Id'] == id_list[i]]\n",
    "    cluster_index = int(rows['cluster_DBSCAN'].mode())  \n",
    "    rows.plot('DateTime', 'Voltage', kind = 'line', color= 'blue', ax = axes, alpha = 0.8,legend = False, grid = True, fontsize = 30)\n",
    "    \n",
    "# plot median for 1 clusters\n",
    "cluster_num = 1\n",
    "for i in range(cluster_num):\n",
    "    rows = group_date[group_date['cluster_DBSCAN'] == -1]\n",
    "    median = rows.groupby([ 'DateTime'])['Voltage'].mean()\n",
    "    median.plot(color = 'green',ax = axes, linewidth = 10, ls = ':')\n",
    "\n",
    "plt.title('Date, DBSCAN, cluster_num = 1', fontsize = 30)\n",
    "plt.xlabel('DateTime', fontsize = 30)\n",
    "plt.ylabel('Voltage', fontsize = 30)\n",
    "plt.show()"
   ]
  },
  {
   "cell_type": "markdown",
   "metadata": {},
   "source": [
    "# train Hour, DBSCAN"
   ]
  },
  {
   "cell_type": "code",
   "execution_count": null,
   "metadata": {},
   "outputs": [],
   "source": [
    "predict = DBSCAN(eps = 0.0000001, min_samples = 100).fit_predict(data_hour)"
   ]
  },
  {
   "cell_type": "code",
   "execution_count": null,
   "metadata": {},
   "outputs": [],
   "source": [
    "group_hour['cluster_DBSCAN'] = predict"
   ]
  },
  {
   "cell_type": "code",
   "execution_count": null,
   "metadata": {},
   "outputs": [],
   "source": [
    "group_hour['cluster_DBSCAN'].value_counts()"
   ]
  },
  {
   "cell_type": "code",
   "execution_count": null,
   "metadata": {},
   "outputs": [],
   "source": [
    "group_hour.head()"
   ]
  },
  {
   "cell_type": "code",
   "execution_count": null,
   "metadata": {},
   "outputs": [],
   "source": [
    "# color_list = ['red','green','blue']\n",
    "# median_list = ['firebrick', 'darkgreen', 'darkblue']\n",
    "cluster_num = 1\n",
    "\n",
    "# fig, ax = plt.subplots(1, 1, figsize = (30, 12))\n",
    "for i in range(cluster_num):\n",
    "    rows = group_hour[group_hour['cluster_DBSCAN'] == -1]\n",
    "    rows.plot('Hour', 'Voltage', kind = 'line', color= 'blue',alpha = 0.8, legend = False, figsize = (30, 12), grid = True, xticks = range(0,24), fontsize = 30)\n",
    "    median = rows.groupby([ 'Hour'])['Voltage'].mean()\n",
    "    median.plot(color = 'green', linewidth = 10, ls = ':')\n",
    "    plt.title('Hour, DBSCAN, cluster_num = 1', fontsize = 30)\n",
    "    plt.xlabel('Hour', fontsize = 30)\n",
    "    plt.ylabel('Voltage', fontsize = 30)\n",
    "    plt.show()\n",
    "    "
   ]
  },
  {
   "cell_type": "code",
   "execution_count": null,
   "metadata": {},
   "outputs": [],
   "source": []
  }
 ],
 "metadata": {
  "kernelspec": {
   "display_name": "Python 3",
   "language": "python",
   "name": "python3"
  },
  "language_info": {
   "codemirror_mode": {
    "name": "ipython",
    "version": 3
   },
   "file_extension": ".py",
   "mimetype": "text/x-python",
   "name": "python",
   "nbconvert_exporter": "python",
   "pygments_lexer": "ipython3",
   "version": "3.7.3"
  }
 },
 "nbformat": 4,
 "nbformat_minor": 2
}
